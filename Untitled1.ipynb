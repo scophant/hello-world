{
 "cells": [
  {
   "cell_type": "code",
   "execution_count": 7,
   "metadata": {
    "collapsed": true
   },
   "outputs": [],
   "source": [
    "import arcgis\n",
    "from arcgis.gis import GIS\n",
    "gis = GIS()"
   ]
  },
  {
   "cell_type": "code",
   "execution_count": 11,
   "metadata": {},
   "outputs": [
    {
     "data": {
      "application/vnd.jupyter.widget-view+json": {
       "model_id": "ae22c0ef0af14caf8a1f09d0da958dfe"
      }
     },
     "metadata": {},
     "output_type": "display_data"
    }
   ],
   "source": [
    "map1 = gis.map('Paris')\n",
    "map1"
   ]
  },
  {
   "cell_type": "code",
   "execution_count": null,
   "metadata": {
    "collapsed": true
   },
   "outputs": [],
   "source": []
  }
 ],
 "metadata": {
  "kernelspec": {
   "display_name": "Python 3",
   "language": "python",
   "name": "python3"
  },
  "language_info": {
   "codemirror_mode": {
    "name": "ipython",
    "version": 3
   },
   "file_extension": ".py",
   "mimetype": "text/x-python",
   "name": "python",
   "nbconvert_exporter": "python",
   "pygments_lexer": "ipython3",
   "version": "3.6.2"
  },
  "widgets": {
   "application/vnd.jupyter.widget-state+json": {
    "state": {
     "221bf5074d334862a678a95056c95963": {
      "model_module": "jupyter-js-widgets",
      "model_module_version": "*",
      "model_name": "DOMWidgetModel",
      "state": {
       "_addlayer": "",
       "_arcgis_url": "",
       "_extent": "{\"xmin\": 2.258440000000034, \"ymin\": 48.77421000000007, \"xmax\": 2.4244400000000343, \"ymax\": 48.940210000000064}",
       "_jsextent": "{\"type\":\"extent\",\"xmin\":243220.26607400517,\"ymin\":6240130.890083757,\"xmax\":319810.1684156486,\"ymax\":6270705.701397787,\"spatialReference\":{\"wkid\":102100,\"latestWkid\":3857}}",
       "_model_name": "DOMWidgetModel",
       "_swipe_div": "swipeDivWR72J9",
       "_token_info": "",
       "_view_module": "mapview",
       "_view_name": "MapView",
       "basemap": "topo",
       "center": [
        0,
        0
       ],
       "end_time": "",
       "id": "",
       "layout": "IPY_MODEL_ebb1d51d29dd493f822873a5327356d9",
       "mode": "navigate",
       "start_time": "",
       "width": "100%",
       "zoom": 2
      }
     },
     "37839671457e46deac9df41ade1317c5": {
      "model_module": "jupyter-js-widgets",
      "model_module_version": "*",
      "model_name": "DOMWidgetModel",
      "state": {
       "_addlayer": "",
       "_arcgis_url": "",
       "_extent": "{\"xmin\": 2.258440000000034, \"ymin\": 48.77421000000007, \"xmax\": 2.4244400000000343, \"ymax\": 48.940210000000064}",
       "_jsextent": "",
       "_model_name": "DOMWidgetModel",
       "_swipe_div": "swipeDivMJBFJ8",
       "_token_info": "",
       "_view_module": "mapview",
       "_view_name": "MapView",
       "basemap": "topo",
       "center": [
        0,
        0
       ],
       "end_time": "",
       "id": "",
       "layout": "IPY_MODEL_667cf3e55a84453a919c5973aa908b02",
       "mode": "navigate",
       "start_time": "",
       "width": "100%",
       "zoom": 2
      }
     },
     "667cf3e55a84453a919c5973aa908b02": {
      "model_module": "jupyter-js-widgets",
      "model_module_version": "~2.1.4",
      "model_name": "LayoutModel",
      "state": {
       "_model_module_version": "~2.1.4",
       "_view_module_version": "~2.1.4"
      }
     },
     "7af07433fca7443aba31cbdb43868bca": {
      "model_module": "jupyter-js-widgets",
      "model_module_version": "~2.1.4",
      "model_name": "LayoutModel",
      "state": {
       "_model_module_version": "~2.1.4",
       "_view_module_version": "~2.1.4"
      }
     },
     "8ad790a4879446da99dee11bf9748eb0": {
      "model_module": "jupyter-js-widgets",
      "model_module_version": "~2.1.4",
      "model_name": "LayoutModel",
      "state": {
       "_model_module_version": "~2.1.4",
       "_view_module_version": "~2.1.4"
      }
     },
     "ae22c0ef0af14caf8a1f09d0da958dfe": {
      "model_module": "jupyter-js-widgets",
      "model_module_version": "*",
      "model_name": "DOMWidgetModel",
      "state": {
       "_addlayer": "",
       "_arcgis_url": "",
       "_extent": "{\"xmin\": 2.258440000000034, \"ymin\": 48.77421000000007, \"xmax\": 2.4244400000000343, \"ymax\": 48.940210000000064}",
       "_jsextent": "{\"type\":\"extent\",\"xmin\":245360.50286598722,\"ymin\":6235391.794330083,\"xmax\":321950.4052076306,\"ymax\":6265966.605644112,\"spatialReference\":{\"wkid\":102100,\"latestWkid\":3857}}",
       "_model_name": "DOMWidgetModel",
       "_swipe_div": "swipeDiv7JE742",
       "_token_info": "",
       "_view_module": "mapview",
       "_view_name": "MapView",
       "basemap": "topo",
       "center": [
        0,
        0
       ],
       "end_time": "",
       "id": "",
       "layout": "IPY_MODEL_8ad790a4879446da99dee11bf9748eb0",
       "mode": "navigate",
       "start_time": "",
       "width": "100%",
       "zoom": 2
      }
     },
     "bdb90757431943b993dadc25fc48a4ab": {
      "model_module": "jupyter-js-widgets",
      "model_module_version": "*",
      "model_name": "DOMWidgetModel",
      "state": {
       "_addlayer": "",
       "_arcgis_url": "",
       "_extent": "{\"xmin\": 2.258440000000034, \"ymin\": 48.77421000000007, \"xmax\": 2.4244400000000343, \"ymax\": 48.940210000000064}",
       "_jsextent": "{\"type\":\"extent\",\"xmin\":247402.20755119552,\"ymin\":6244849.682251794,\"xmax\":285697.1587220172,\"ymax\":6260137.087908808,\"spatialReference\":{\"wkid\":102100,\"latestWkid\":3857}}",
       "_model_name": "DOMWidgetModel",
       "_swipe_div": "swipeDivZGUOZ8",
       "_token_info": "",
       "_view_module": "mapview",
       "_view_name": "MapView",
       "basemap": "topo",
       "center": [
        0,
        0
       ],
       "end_time": "",
       "id": "",
       "layout": "IPY_MODEL_7af07433fca7443aba31cbdb43868bca",
       "mode": "navigate",
       "start_time": "",
       "width": "100%",
       "zoom": 2
      }
     },
     "ebb1d51d29dd493f822873a5327356d9": {
      "model_module": "jupyter-js-widgets",
      "model_module_version": "~2.1.4",
      "model_name": "LayoutModel",
      "state": {
       "_model_module_version": "~2.1.4",
       "_view_module_version": "~2.1.4"
      }
     }
    },
    "version_major": 1,
    "version_minor": 0
   }
  }
 },
 "nbformat": 4,
 "nbformat_minor": 2
}
